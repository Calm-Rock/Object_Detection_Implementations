{
 "cells": [
  {
   "cell_type": "markdown",
   "metadata": {},
   "source": [
    "### Detection of objects using a saved video"
   ]
  },
  {
   "cell_type": "markdown",
   "metadata": {},
   "source": [
    "Download the header file from here: [link](https://github.com/OlafenwaMoses/ImageAI/releases/download/1.0/yolo.h5)"
   ]
  },
  {
   "cell_type": "code",
   "execution_count": null,
   "metadata": {},
   "outputs": [],
   "source": [
    "from imageai.Detection import VideoObjectDetection\n",
    "import os\n",
    "\n",
    "#Get the current working directory\n",
    "execution_path = os.getcwd()\n",
    "\n",
    "detector = VideoObjectDetection()\n",
    "#Using the YOLOv3 model\n",
    "detector.setModelTypeAsYOLOv3()\n",
    "#Using the yolo weights file\n",
    "detector.setModelPath( os.path.join(execution_path , \"yolo.h5\"))\n",
    "detector.loadModel()\n",
    "\n",
    "video_path = detector.detectObjectsFromVideo(input_file_path=os.path.join( execution_path, \"car_traffic_trim.mp4\"),\n",
    "                                output_file_path=os.path.join(execution_path, \"car_traffic_trimdetected_1\")\n",
    "                                , frames_per_second=29, log_progress=True) \n",
    "#Output video will have fps = 29 which can be changed\n",
    "\n",
    "\n",
    "print(video_path)\n"
   ]
  }
 ],
 "metadata": {
  "kernelspec": {
   "display_name": "Python 3",
   "language": "python",
   "name": "python3"
  },
  "language_info": {
   "codemirror_mode": {
    "name": "ipython",
    "version": 3
   },
   "file_extension": ".py",
   "mimetype": "text/x-python",
   "name": "python",
   "nbconvert_exporter": "python",
   "pygments_lexer": "ipython3",
   "version": "3.6.4"
  }
 },
 "nbformat": 4,
 "nbformat_minor": 2
}
