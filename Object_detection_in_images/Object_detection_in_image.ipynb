{
 "cells": [
  {
   "cell_type": "markdown",
   "metadata": {},
   "source": [
    "### Object_detection_in_images"
   ]
  },
  {
   "cell_type": "markdown",
   "metadata": {},
   "source": [
    "Download the weights file from this [link](https://github.com/OlafenwaMoses/ImageAI/releases/download/1.0/resnet50_coco_best_v2.0.1.h5)\n",
    "and save it in the working directory.<br>\n",
    "Use some image (maybe from your camera) and save it in your directory and name it \"image.jpg\" (if in jpg format). After runnin the code, you'll find a image named \"image_new.png\" in your working directory."
   ]
  },
  {
   "cell_type": "code",
   "execution_count": null,
   "metadata": {},
   "outputs": [],
   "source": [
    "from imageai.Detection import ObjectDetection\n",
    "import os\n",
    "import cv2\n",
    "import matplotlib.pyplot as plt\n",
    "\n",
    "#To get the current working directory\n",
    "execution_path = os.getcwd()\n",
    "\n",
    "detector = ObjectDetection()\n",
    "#Using the RetinaNet model\n",
    "detector.setModelTypeAsRetinaNet()\n",
    "detector.setModelPath( os.path.join(execution_path , \"resnet50_coco_best_v2.0.1.h5\"))\n",
    "detector.loadModel()\n",
    "\n",
    "#Detecting the person, car in the image\n",
    "#You can add more calsses available in the RetinaNet model\n",
    "custom_objects = detector.CustomObjects(person=True, car=True)\n",
    "detections = detector.detectCustomObjectsFromImage(input_image=os.path.join(execution_path , \"image.jpg\"), output_image_path=os.path.join(execution_path , \"image_new.jpg\"), custom_objects=custom_objects, minimum_percentage_probability=65)\n",
    "\n",
    "\n",
    "for eachObject in detections:\n",
    "   print(eachObject[\"name\"] + \" : \" + str(eachObject[\"percentage_probability\"] ))\n",
    "   print(\"--------------------------------\")\n",
    "\n",
    "#img = cv2.imread('image_new.jpg')\n",
    "#cv2.imshow('detected_image', img)\n"
   ]
  },
  {
   "cell_type": "markdown",
   "metadata": {},
   "source": [
    "Lets have a look at the working of the code on the nostalgic <b>Mr.Bean</b> moment :D"
   ]
  },
  {
   "cell_type": "markdown",
   "metadata": {},
   "source": [
    "![alt text]( https://i.imgur.com/0RUrydY.jpg \"Image.jpg\")\n",
    "![alt text]( https://i.imgur.com/ab5dz9p.png \"New_Image.png\")"
   ]
  },
  {
   "cell_type": "markdown",
   "metadata": {},
   "source": [
    "Check out the ImageAI library's github here: <a href=\"https://github.com/OlafenwaMoses/ImageAI\"> ImageAI</a>"
   ]
  }
 ],
 "metadata": {
  "kernelspec": {
   "display_name": "Python 3",
   "language": "python",
   "name": "python3"
  },
  "language_info": {
   "codemirror_mode": {
    "name": "ipython",
    "version": 3
   },
   "file_extension": ".py",
   "mimetype": "text/x-python",
   "name": "python",
   "nbconvert_exporter": "python",
   "pygments_lexer": "ipython3",
   "version": "3.6.4"
  }
 },
 "nbformat": 4,
 "nbformat_minor": 2
}
