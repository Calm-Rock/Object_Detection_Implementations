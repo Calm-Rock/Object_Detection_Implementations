{
 "cells": [
  {
   "cell_type": "markdown",
   "metadata": {},
   "source": [
    "### Stream From Phone\n",
    "Using this script, you can live stream into your desktop using your mobile phone camera and the IP Camera app."
   ]
  },
  {
   "cell_type": "code",
   "execution_count": null,
   "metadata": {},
   "outputs": [],
   "source": [
    "import urllib.request\n",
    "import cv2\n",
    "import numpy as np\n",
    "\n",
    "\n",
    "#Just fill in the IP diplayed on the IP_Camera app\n",
    "URL = \"http://192.168.43.98:8080/video\"\n",
    "\n",
    "while True:\n",
    "\n",
    "    img_arr = np.array(bytearray(urllib.request.urlopen(URL).read()),dtype=np.uint8)\n",
    "    img = cv2.imdecode(img_arr,-1)\n",
    "    cv2.imshow('IPWebcam',img)\n",
    "    cv2.waitKey(10)\n"
   ]
  },
  {
   "cell_type": "code",
   "execution_count": null,
   "metadata": {},
   "outputs": [],
   "source": []
  }
 ],
 "metadata": {
  "kernelspec": {
   "display_name": "Python 3",
   "language": "python",
   "name": "python3"
  },
  "language_info": {
   "codemirror_mode": {
    "name": "ipython",
    "version": 3
   },
   "file_extension": ".py",
   "mimetype": "text/x-python",
   "name": "python",
   "nbconvert_exporter": "python",
   "pygments_lexer": "ipython3",
   "version": "3.6.4"
  }
 },
 "nbformat": 4,
 "nbformat_minor": 2
}
